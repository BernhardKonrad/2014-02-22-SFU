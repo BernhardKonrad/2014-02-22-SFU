{
 "metadata": {
  "name": ""
 },
 "nbformat": 3,
 "nbformat_minor": 0,
 "worksheets": [
  {
   "cells": [
    {
     "cell_type": "markdown",
     "metadata": {
      "slideshow": {
       "slide_type": "slide"
      }
     },
     "source": [
      "<div align=\"center\"><font size=\"26\">Welcome back to day 2</font></div>\n",
      "<div align=\"center\"><img src=\"http://www.data2semantics.org/bootcamp/img/software-carpentry-logo.png\" width=\"40%\" height=\"40%\"/></div>\n",
      "<br>\n",
      "<div align=\"center\"><font size=\"36\">@ </font></div>\n",
      "<br>\n",
      "<div align=\"center\"><img src=\"http://www.ritualspacesandplaces.com/resources/lab6-logo.png\" width=\"40%\" height=\"40%\"/></div>"
     ]
    },
    {
     "cell_type": "markdown",
     "metadata": {
      "slideshow": {
       "slide_type": "slide"
      }
     },
     "source": [
      "<div id=\"container\" style=\"width:100%\">\n",
      "\n",
      "<div id=\"menu\" style=\"background-color:#EEEEEE;height:100%;width:30%;float:left;\">\n",
      "<ul>\n",
      "<b>Day 1</b><br><br>\n",
      "<li> Intro to **R** and **RStudio** <img src=\"http://marcoghislanzoni.com/blog/wp-content/uploads/2013/10/RStudio.png\" width=\"20%\"> </li>\n",
      "\n",
      "<li> Data structures and classes in R</li>\n",
      "\n",
      "<li> Reading and writing data</li>\n",
      "\n",
      "<li> Intro to version control with <img src=\"https://github-camo.global.ssl.fastly.net/233e6dc4e0b7db13dea0ee1164c9eaac875269db/687474703a2f2f636c2e6c792f31493233336a316c3258336333313143314331482f4769742d4c6f676f2d32436f6c6f722e706e67\" width=\"30%\"></li>\n",
      "\n",
      "<li> Data aggregation using plyr</li>\n",
      "</ul>\n",
      "</div>\n",
      "\n",
      "</div>"
     ]
    },
    {
     "cell_type": "markdown",
     "metadata": {
      "slideshow": {
       "slide_type": "subslide"
      }
     },
     "source": [
      "\n",
      "<div id=\"menu\" style=\"background-color:#EEEEEE;height:100%;width:30%;float:left;\">\n",
      "<ul>\n",
      "<b>Day 1</b><br><br>\n",
      "<li> Intro to **R** and **RStudio** <img src=\"http://marcoghislanzoni.com/blog/wp-content/uploads/2013/10/RStudio.png\" width=\"20%\"> </li>\n",
      "\n",
      "<li> Data structures and classes in R</li>\n",
      "\n",
      "<li> Reading and writing data</li>\n",
      "\n",
      "<li> Intro to version control with <img src=\"https://github-camo.global.ssl.fastly.net/233e6dc4e0b7db13dea0ee1164c9eaac875269db/687474703a2f2f636c2e6c792f31493233336a316c3258336333313143314331482f4769742d4c6f676f2d32436f6c6f722e706e67\" width=\"30%\"></li>\n",
      "\n",
      "<li> Data aggregation using plyr</li>\n",
      "</ul>\n",
      "</div>\n",
      "\n",
      "<div id=\"content\" style=\"background-color:#EEEEEE;height:100%;width:30%;float:left;\">\n",
      "<ul>\n",
      "<b>Your feedback and suggestions</b><br><br>\n",
      "\n",
      "<li> <font color=\"green\"> How to use git in terminal, BitBucket </font> </li>\n",
      "\n",
      "<li> <font color=\"green\"> How to collaborate effectively </font> </li>\n",
      "\n",
      "<li> <font color=\"blue\"> Make pretty graphs </font> </li>\n",
      "\n",
      "<li> <font color=\"red\"> How and when to use functions </font> </li>\n",
      "\n",
      "<li> <font color=\"DeepPink\"> The R workflow and how to automate it </font> </li>\n",
      "\n",
      "<li> How to run principal component analyis </li>\n",
      "\n",
      "</ul>\n",
      "</div>"
     ]
    },
    {
     "cell_type": "markdown",
     "metadata": {
      "slideshow": {
       "slide_type": "subslide"
      }
     },
     "source": [
      "<div id=\"menu\" style=\"background-color:#EEEEEE;height:100%;width:30%;float:left;\">\n",
      "<ul>\n",
      "<b>Day 1</b><br><br>\n",
      "<li> Intro to **R** and **RStudio** <img src=\"http://marcoghislanzoni.com/blog/wp-content/uploads/2013/10/RStudio.png\" width=\"20%\"> </li>\n",
      "\n",
      "<li> Data structures and classes in R</li>\n",
      "\n",
      "<li> Reading and writing data</li>\n",
      "\n",
      "<li> Intro to version control with <img src=\"https://github-camo.global.ssl.fastly.net/233e6dc4e0b7db13dea0ee1164c9eaac875269db/687474703a2f2f636c2e6c792f31493233336a316c3258336333313143314331482f4769742d4c6f676f2d32436f6c6f722e706e67\" width=\"30%\"></li>\n",
      "\n",
      "<li> Data aggregation using plyr</li>\n",
      "</ul>\n",
      "</div>\n",
      "\n",
      "<div id=\"content\" style=\"background-color:#EEEEEE;height:100%;width:30%;float:left;\">\n",
      "<ul>\n",
      "<b>Your feedback and suggestions</b><br><br>\n",
      "\n",
      "<li> <font color=\"green\"> How to use git in terminal, BitBucket </font> </li>\n",
      "\n",
      "<li> <font color=\"green\"> How to collaborate effectively </font> </li>\n",
      "\n",
      "<li> <font color=\"blue\"> Make pretty graphs </font> </li>\n",
      "\n",
      "<li> <font color=\"red\"> How and when to use functions </font> </li>\n",
      "\n",
      "<li> <font color=\"DeepPink\"> The R workflow and how to automate it </font> </li>\n",
      "\n",
      "<li> How to run principal component analyis </li>\n",
      "\n",
      "</ul>\n",
      "</div>\n",
      "\n",
      "<div id=\"content\" style=\"background-color:#EEEEEE;height:100%;width:40%;float:left;\">\n",
      "<ul>\n",
      "<b>Day 2</b><br><br>\n",
      "<li> <font color=\"DeepPink\"> How to organize your file system </font> </li>\n",
      "\n",
      "<li> <font color=\"DeepPink\"> Dynamic report generation with knitr <img src=\"http://yihui.name/knitr/images/knit-logo.png\" width=\"25%\"> </font>  </li>\n",
      "\n",
      "<li> <font color=\"green\"> Git in terminal and collaborating with <img src=\"http://wptavern.com/wp-content/uploads/2013/10/github-logo.png\" width=\"35%\"> </font>  </li>\n",
      "\n",
      "<li> <font color=\"blue\"> Making figures in ggplot2 </font>  </li>\n",
      "\n",
      "<li> <font color=\"red\"> Functions and debugging </font>  </li>\n",
      "\n",
      "<li> <font color=\"DeepPink\"> The (automated) R workflow of a pro</font> </li>\n",
      "</ul>\n",
      "</div>"
     ]
    },
    {
     "cell_type": "markdown",
     "metadata": {
      "slideshow": {
       "slide_type": "slide"
      }
     },
     "source": [
      "##Remember:\n",
      "\n",
      "###Sticky Notes\n",
      "\n",
      "* <font color=\"red\">If you are lost, confused, or need help, put the red sticky up on your laptop.</font>\n",
      "* <font color=\"green\">If all is well, put up the green sticky.</font>\n",
      "\n",
      "###<a href=\"https://etherpad.mozilla.org/2014-02-swc-sfu-R\">Etherpad</a>\n",
      "\n",
      "\n",
      "<img src=\"http://rebeccaberto.files.wordpress.com/2012/07/twitter-bird.jpg\" width=\"5%\" height=\"2.5%\"/> @swcarpentry or #swcsfu\n",
      "\n",
      "###Ask questions"
     ]
    },
    {
     "cell_type": "markdown",
     "metadata": {
      "slideshow": {
       "slide_type": "slide"
      }
     },
     "source": [
      "#Alright then, let's go!\n",
      "\n",
      "<div align=\"center\"><img src=\"http://x.vukajlija.com/var/uploads/reactions/201207/9512/funny-gifs-ok-lets-go.gif\" width=\"50%\" height=\"30%\"/></div>"
     ]
    }
   ],
   "metadata": {}
  }
 ]
}