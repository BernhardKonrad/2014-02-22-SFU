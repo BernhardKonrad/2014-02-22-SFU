{
 "metadata": {
  "name": ""
 },
 "nbformat": 3,
 "nbformat_minor": 0,
 "worksheets": [
  {
   "cells": [
    {
     "cell_type": "markdown",
     "metadata": {
      "slideshow": {
       "slide_type": "slide"
      }
     },
     "source": [
      "#Software Carpentry"
     ]
    },
    {
     "cell_type": "markdown",
     "metadata": {
      "slideshow": {
       "slide_type": "fragment"
      }
     },
     "source": [
      "...so what are we doing here?"
     ]
    },
    {
     "cell_type": "markdown",
     "metadata": {
      "slideshow": {
       "slide_type": "slide"
      }
     },
     "source": [
      "<iframe src=\"//player.vimeo.com/video/68558518\" width=\"500\" height=\"281\" frameborder=\"0\" webkitallowfullscreen mozallowfullscreen allowfullscreen></iframe> <p><a href=\"http://vimeo.com/68558518\">GIZMODO - The Wildly Functional Studio of Video Wizard Casey Neistat, Part 1</a> from <a href=\"http://vimeo.com/gizmodo\">Gizmodo</a> on <a href=\"https://vimeo.com\">Vimeo</a>.</p>"
     ]
    },
    {
     "cell_type": "markdown",
     "metadata": {
      "slideshow": {
       "slide_type": "subslide"
      }
     },
     "source": [
      "\"It's just pure functionality; I mean, there\u2019s so much s*** in here; all of it\u2019s used, otherwise it wouldn\u2019t be in here, and you have to keep track of it.  So every minute that I spend looking for, like, velcro tape, or my drill gun, is a minute I\u2019m not doing something productive so why not build an infrastructure that supports that rather than encourages the chaos.\""
     ]
    },
    {
     "cell_type": "markdown",
     "metadata": {
      "slideshow": {
       "slide_type": "slide"
      }
     },
     "source": [
      "###studio space for scientist, statistician, mathematician, etc... = a computer"
     ]
    },
    {
     "cell_type": "markdown",
     "metadata": {
      "slideshow": {
       "slide_type": "subslide"
      }
     },
     "source": [
      "###Software Carpentry bootcamps are about helping you optimize your (computing) studio"
     ]
    },
    {
     "cell_type": "markdown",
     "metadata": {
      "slideshow": {
       "slide_type": "fragment"
      }
     },
     "source": [
      "* organization schemes (automation, version control)\n",
      "* tool-building (scripting, programming)\n",
      "* tools (python, shell, git)"
     ]
    },
    {
     "cell_type": "markdown",
     "metadata": {
      "slideshow": {
       "slide_type": "slide"
      }
     },
     "source": [
      "##Housekeeping\n",
      "\n"
     ]
    },
    {
     "cell_type": "markdown",
     "metadata": {
      "slideshow": {
       "slide_type": "subslide"
      }
     },
     "source": [
      "###Today's topics\n",
      "\n",
      "* Intro to shell\n",
      "* Intro to version control with git (locally)\n",
      "* Ditto, but remotely\n",
      "* Automation and shell scripting\n",
      "* Intro to python, with ipython blocks\n",
      "\n",
      "Breaks in morning/afternoon, hour for lunch"
     ]
    },
    {
     "cell_type": "markdown",
     "metadata": {
      "slideshow": {
       "slide_type": "subslide"
      }
     },
     "source": [
      "###Sticky Notes\n",
      "\n",
      "Sticky notes are our on-the-cheap version of clickers or any other classroom response system.  We will use these to check in with how people are doing.  Basically:\n",
      "\n",
      "* If you are lost, confused, or need help, put the red sticky up on your laptop.  \n",
      "* If all is well, put up the green sticky.  \n",
      "\n",
      "If there are lots of red stickies, we'll slow down and take stock; lots of green means we'll keep moving on.  \n"
     ]
    },
    {
     "cell_type": "markdown",
     "metadata": {
      "slideshow": {
       "slide_type": "subslide"
      }
     },
     "source": [
      "###Tools\n",
      "\n",
      "Things you should probably have open:\n",
      "\n",
      "* Your bash shell\n",
      "* Bootcamp etherpad\n",
      "* Note-taking device (if desired)\n",
      "\n",
      "If you're on twitter (not during a lesson, of course), feel free to mention @swcarpentry or use the hashtag #SWCSFU"
     ]
    }
   ],
   "metadata": {}
  }
 ]
}