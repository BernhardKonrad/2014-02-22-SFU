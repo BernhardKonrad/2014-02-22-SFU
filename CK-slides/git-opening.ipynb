{
 "metadata": {
  "name": ""
 },
 "nbformat": 3,
 "nbformat_minor": 0,
 "worksheets": [
  {
   "cells": [
    {
     "cell_type": "markdown",
     "metadata": {
      "slideshow": {
       "slide_type": "skip"
      }
     },
     "source": [
      "Original acknowledgements: With help from Ariel Rokem, Julia Gustavsen, \n",
      "Fernando Perez, Karthik Ram, Matthew Brett and illustrations from Scott Chacon's pro-git book\n",
      "\n",
      "Modifed by Christina Koch, original file by Jenny Bryan via Bernhard Konrad"
     ]
    },
    {
     "cell_type": "markdown",
     "metadata": {
      "slideshow": {
       "slide_type": "slide"
      }
     },
     "source": [
      "# Intro to practical version control for scientists"
     ]
    },
    {
     "cell_type": "markdown",
     "metadata": {
      "slideshow": {
       "slide_type": "fragment"
      }
     },
     "source": [
      "<img src=\"http://www.phdcomics.com/comics/archive/phd101212s.gif\" width=\"60%\">\n",
      "\n",
      "\"Piled Higher and Deeper\" by Jorge Cham, http://www.phdcomics.com"
     ]
    },
    {
     "cell_type": "markdown",
     "metadata": {
      "slideshow": {
       "slide_type": "slide"
      }
     },
     "source": [
      "## Who here uses a version control system?"
     ]
    },
    {
     "cell_type": "markdown",
     "metadata": {
      "slideshow": {
       "slide_type": "slide"
      }
     },
     "source": [
      "### What is version control and what does it do for us?\n"
     ]
    },
    {
     "cell_type": "markdown",
     "metadata": {
      "slideshow": {
       "slide_type": "fragment"
      }
     },
     "source": [
      "- Reproducibility : logging of every step, complete project history"
     ]
    },
    {
     "cell_type": "markdown",
     "metadata": {
      "slideshow": {
       "slide_type": "fragment"
      }
     },
     "source": [
      "- Peace of mind : a robust backup system of changing files\n"
     ]
    },
    {
     "cell_type": "markdown",
     "metadata": {
      "slideshow": {
       "slide_type": "fragment"
      }
     },
     "source": [
      "- Collaboration : synchronize same files across multiple computers/people"
     ]
    },
    {
     "cell_type": "markdown",
     "metadata": {
      "slideshow": {
       "slide_type": "slide"
      }
     },
     "source": [
      "#Before..."
     ]
    },
    {
     "cell_type": "markdown",
     "metadata": {
      "slideshow": {
       "slide_type": "subslide"
      }
     },
     "source": [
      "<img src=\"http://www.math.ubc.ca/~konradbe/swc-git/1.png\" width=\"80%\">"
     ]
    },
    {
     "cell_type": "markdown",
     "metadata": {
      "slideshow": {
       "slide_type": "subslide"
      }
     },
     "source": [
      "<img src=\"http://www.math.ubc.ca/~konradbe/swc-git/2.png\" width=\"80%\">"
     ]
    },
    {
     "cell_type": "markdown",
     "metadata": {
      "slideshow": {
       "slide_type": "subslide"
      }
     },
     "source": [
      "<img src=\"http://www.math.ubc.ca/~konradbe/swc-git/3.png\" width=\"80%\">"
     ]
    },
    {
     "cell_type": "markdown",
     "metadata": {
      "slideshow": {
       "slide_type": "subslide"
      }
     },
     "source": [
      "<img src=\"http://www.math.ubc.ca/~konradbe/swc-git/4.png\" width=\"80%\">"
     ]
    },
    {
     "cell_type": "markdown",
     "metadata": {
      "slideshow": {
       "slide_type": "slide"
      }
     },
     "source": [
      "<img src=\"http://disinfo.s3.amazonaws.com/wp-content/uploads/2013/11/huh.jpg\" width=\"80%\">"
     ]
    },
    {
     "cell_type": "markdown",
     "metadata": {
      "slideshow": {
       "slide_type": "slide"
      }
     },
     "source": [
      "<img src=\"http://www.math.ubc.ca/~konradbe/swc-git/meanwhileInVC.png\" width=\"80%\">"
     ]
    },
    {
     "cell_type": "markdown",
     "metadata": {
      "slideshow": {
       "slide_type": "subslide"
      }
     },
     "source": [
      "<img src=\"http://www.math.ubc.ca/~konradbe/swc-git/better1.png\" width=\"80%\">"
     ]
    },
    {
     "cell_type": "markdown",
     "metadata": {
      "slideshow": {
       "slide_type": "subslide"
      }
     },
     "source": [
      "<img src=\"http://www.math.ubc.ca/~konradbe/swc-git/better2.png\" width=\"80%\">"
     ]
    },
    {
     "cell_type": "markdown",
     "metadata": {
      "slideshow": {
       "slide_type": "subslide"
      }
     },
     "source": [
      "<img src=\"http://www.math.ubc.ca/~konradbe/swc-git/better3.png\" width=\"80%\">"
     ]
    },
    {
     "cell_type": "markdown",
     "metadata": {
      "slideshow": {
       "slide_type": "subslide"
      }
     },
     "source": [
      "<img src=\"http://www.math.ubc.ca/~konradbe/swc-git/better4.png\" width=\"80%\">"
     ]
    },
    {
     "cell_type": "markdown",
     "metadata": {
      "slideshow": {
       "slide_type": "subslide"
      }
     },
     "source": [
      "<img src=\"http://www.math.ubc.ca/~konradbe/swc-git/better5.png\" width=\"80%\">"
     ]
    },
    {
     "cell_type": "markdown",
     "metadata": {
      "slideshow": {
       "slide_type": "subslide"
      }
     },
     "source": [
      "<img src=\"http://www.math.ubc.ca/~konradbe/swc-git/better1.png\" width=\"80%\">"
     ]
    },
    {
     "cell_type": "markdown",
     "metadata": {
      "slideshow": {
       "slide_type": "slide"
      }
     },
     "source": [
      "### Side benefits from Version Control"
     ]
    },
    {
     "cell_type": "markdown",
     "metadata": {
      "slideshow": {
       "slide_type": "fragment"
      }
     },
     "source": [
      "* no overwrites\n",
      "* blame is evident\n",
      "* nothing is ever lost\n",
      "* freedom to experiment"
     ]
    },
    {
     "cell_type": "markdown",
     "metadata": {
      "slideshow": {
       "slide_type": "fragment"
      }
     },
     "source": [
      "### Can I only use this for code?"
     ]
    },
    {
     "cell_type": "markdown",
     "metadata": {
      "slideshow": {
       "slide_type": "fragment"
      }
     },
     "source": [
      "* Version control works for any file format (code, pdfs, docs, xls, jpg, etc.)\n",
      "* ... but works **best** for text-based files (txt, Python, R, Matlab, any other code)"
     ]
    },
    {
     "cell_type": "markdown",
     "metadata": {
      "slideshow": {
       "slide_type": "slide"
      }
     },
     "source": [
      "## Introducing `git`\n"
     ]
    },
    {
     "cell_type": "markdown",
     "metadata": {},
     "source": [
      "We will be using git\n",
      "\n",
      "<img src=\"https://github-camo.global.ssl.fastly.net/233e6dc4e0b7db13dea0ee1164c9eaac875269db/687474703a2f2f636c2e6c792f31493233336a316c3258336333313143314331482f4769742d4c6f676f2d32436f6c6f722e706e67\" width=\"30%\"> &nbsp;&nbsp;&nbsp;&nbsp;&nbsp;&nbsp;&nbsp;&nbsp;&nbsp;&nbsp;&nbsp;&nbsp;&nbsp;&nbsp;&nbsp;<img src=\"http://git-scm.com/images/branching-illustration@2x.png\" width=\"30%\">\n",
      "\n",
      "There are many others (subversion, mercurial, bazaar, etc.)"
     ]
    },
    {
     "cell_type": "markdown",
     "metadata": {
      "slideshow": {
       "slide_type": "slide"
      }
     },
     "source": [
      "### How are we going to learn how to use git?"
     ]
    },
    {
     "cell_type": "markdown",
     "metadata": {
      "slideshow": {
       "slide_type": "fragment"
      }
     },
     "source": [
      "* Simple git commands on the command line.\n",
      "* Next weekend: How to collaborate using *github* <img src=\"http://wptavern.com/wp-content/uploads/2013/10/github-logo.png\" width=\"20%\">"
     ]
    },
    {
     "cell_type": "markdown",
     "metadata": {
      "slideshow": {
       "slide_type": "subslide"
      }
     },
     "source": [
      "<img src=\"http://img2.timeinc.net/ew/i/2013/01/13/DEATH-STAR_510x510.jpg\" width=\"35%\">\n",
      "\n",
      "###the basics...incomplete, but still \"fully armed and operational\""
     ]
    },
    {
     "cell_type": "markdown",
     "metadata": {
      "slideshow": {
       "slide_type": "subslide"
      }
     },
     "source": [
      "##The official goals of this session: \n",
      "\n",
      "1. Explain which initialization and configuration steps are required once per machine, and which are required once per repository.\n",
      "2. Go through the modify-add-commit cycle for single and multiple files and explain where information is stored at each stage.\n",
      "3. Identify and Use Git revision numbers.\n",
      "4. Compare files with old versions of themselves.\n",
      "5. Restore old versions of files.\n",
      "6. Configure Git to ignore specific files, and explain why it is sometimes useful to do so.\n",
      "\n",
      "From http://software-carpentry.org/v5/novice/git/01-backup.html"
     ]
    },
    {
     "cell_type": "markdown",
     "metadata": {
      "slideshow": {
       "slide_type": "slide"
      }
     },
     "source": [
      "#Setup"
     ]
    },
    {
     "cell_type": "markdown",
     "metadata": {
      "slideshow": {
       "slide_type": "slide"
      }
     },
     "source": [
      "##Some Terms"
     ]
    },
    {
     "cell_type": "markdown",
     "metadata": {
      "slideshow": {
       "slide_type": "fragment"
      }
     },
     "source": [
      "* \"commit\" (verb, noun)\n",
      "\n",
      "* \"changeset\"\n",
      "\n",
      "* \"staging area\"\n",
      "\n",
      "* \"repository\" (commonly, \"repo\")"
     ]
    },
    {
     "cell_type": "markdown",
     "metadata": {
      "slideshow": {
       "slide_type": "slide"
      }
     },
     "source": [
      "##Version Control with Git - Demo Instructions"
     ]
    },
    {
     "cell_type": "markdown",
     "metadata": {
      "slideshow": {
       "slide_type": "fragment"
      }
     },
     "source": [
      "* You are each now a \"file\" in the directory \"Room K9509\".  You have to contain some data, so take the white index card and write on it the number of years you spent/are spending getting all your post-secondary degrees.  "
     ]
    },
    {
     "cell_type": "markdown",
     "metadata": {
      "slideshow": {
       "slide_type": "fragment"
      }
     },
     "source": [
      "* Meanwhile, I'll initialize a repository."
     ]
    },
    {
     "cell_type": "markdown",
     "metadata": {
      "slideshow": {
       "slide_type": "fragment"
      }
     },
     "source": [
      "* I want to capture a version of my files so far.  So I'll have you all stand up, holding your index card..."
     ]
    },
    {
     "cell_type": "markdown",
     "metadata": {
      "slideshow": {
       "slide_type": "fragment"
      }
     },
     "source": [
      "* ...and then I'll take a picture (the commit)."
     ]
    },
    {
     "cell_type": "markdown",
     "metadata": {
      "slideshow": {
       "slide_type": "fragment"
      }
     },
     "source": [
      "* Let's modify the files.  On the pink card, write your area of research.  "
     ]
    },
    {
     "cell_type": "markdown",
     "metadata": {
      "slideshow": {
       "slide_type": "fragment"
      }
     },
     "source": [
      "* I want to \"save my changes\" again..."
     ]
    },
    {
     "cell_type": "markdown",
     "metadata": {
      "slideshow": {
       "slide_type": "fragment"
      }
     },
     "source": [
      "* But this time, I only want to commit changes from people on the left side of the room.  So I'll have that side of the room stand up with both index cards..."
     ]
    },
    {
     "cell_type": "markdown",
     "metadata": {
      "slideshow": {
       "slide_type": "fragment"
      }
     },
     "source": [
      "* ...and take their photo again.  "
     ]
    },
    {
     "cell_type": "markdown",
     "metadata": {},
     "source": []
    }
   ],
   "metadata": {}
  }
 ]
}