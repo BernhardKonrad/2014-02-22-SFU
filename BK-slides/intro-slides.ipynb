{
 "metadata": {
  "name": ""
 },
 "nbformat": 3,
 "nbformat_minor": 0,
 "worksheets": [
  {
   "cells": [
    {
     "cell_type": "markdown",
     "metadata": {
      "slideshow": {
       "slide_type": "slide"
      }
     },
     "source": [
      "<div align=\"center\"><font size=\"26\">Hello and welcome to</font></div>\n",
      "<div align=\"center\"><img src=\"http://www.data2semantics.org/bootcamp/img/software-carpentry-logo.png\" width=\"40%\" height=\"40%\"/></div>\n",
      "<br>\n",
      "<div align=\"center\"><font size=\"36\">@ </font></div>\n",
      "<br>\n",
      "<div align=\"center\"><img src=\"http://www.ritualspacesandplaces.com/resources/lab6-logo.png\" width=\"40%\" height=\"40%\"/></div>"
     ]
    },
    {
     "cell_type": "markdown",
     "metadata": {
      "slideshow": {
       "slide_type": "slide"
      }
     },
     "source": [
      "### Software Carpentry's goal is to make scientists and engineering more productive by teaching them basic computing skills.\n",
      "\n",
      "* Founded in 1997.\n",
      "\n",
      "* About 100 volunteers who ran almost 100 two-day workshop in 2013 along.\n",
      "\n",
      "* All Material is open access. Please freely share, re-use, modify (but mention SWC as original source).\n",
      "\n",
      "* Supported by the Alfred P. Sloan Foundation <img src=\"http://software-carpentry.org/img/orgs/sloan.png\" width=\"5%\" height=\"5%\"/> and the Mozilla Foundation <img src=\"http://software-carpentry.org/img/orgs/mozilla.png\" width=\"5%\" height=\"5%\"/>\n",
      "\n",
      "<div align=\"center\"><img src=\"https://raw.github.com/bernhardkonrad/2014-02-22-SFU/gh-pages/BK-slides/SWCprev.png\" width=\"40%\" height=\"20%\"/></div>"
     ]
    },
    {
     "cell_type": "markdown",
     "metadata": {
      "slideshow": {
       "slide_type": "slide"
      }
     },
     "source": [
      "# Problem\n",
      "\n",
      "\n",
      "Surveyed almost 2000 Scientists in 2008:\n",
      "\n",
      "* How do you use computer?\n",
      "\n",
      "* How did you learn what you know?"
     ]
    },
    {
     "cell_type": "markdown",
     "metadata": {
      "slideshow": {
       "slide_type": "fragment"
      }
     },
     "source": [
      "## Answers\n",
      "\n",
      "* On average they spend 40% of their time building or using software.\n",
      "\n",
      "* More than half say this number is increasing.\n",
      "\n",
      "* 26% say that what they know is **mostly self-taught**"
     ]
    },
    {
     "cell_type": "markdown",
     "metadata": {
      "slideshow": {
       "slide_type": "fragment"
      }
     },
     "source": [
      "* Oh, wait. That last number there should read *<font color=\"red\"> 96% </font> of Scientists say that what they know about computers is mostly self-taught.*"
     ]
    },
    {
     "cell_type": "markdown",
     "metadata": {
      "slideshow": {
       "slide_type": "slide"
      }
     },
     "source": [
      "<iframe src=\"//player.vimeo.com/video/68558518\" width=\"500\" height=\"281\" frameborder=\"0\" webkitallowfullscreen mozallowfullscreen allowfullscreen></iframe> <p><a href=\"http://vimeo.com/68558518\">GIZMODO - The Wildly Functional Studio of Video Wizard Casey Neistat, Part 1</a> from <a href=\"http://vimeo.com/gizmodo\">Gizmodo</a> on <a href=\"https://vimeo.com\">Vimeo</a>.</p>"
     ]
    },
    {
     "cell_type": "markdown",
     "metadata": {
      "slideshow": {
       "slide_type": "subslide"
      }
     },
     "source": [
      "<font size=\"6\"> It's just pure functionality; </font>\n",
      "\n",
      "<br>\n",
      "\n",
      "<font size=\"6\"> I mean, there\u2019s so much s*** in here; all of it\u2019s used, otherwise it wouldn\u2019t be in here, and you have to keep track of it. </font>\n",
      "\n",
      "<br>\n",
      "\n",
      "<font size=\"6\"> So every minute that I spend looking for, like, velcro tape, or my drill gun, is a minute I\u2019m not doing something productive so why not build an infrastructure that supports that rather than encourages the chaos. </font>"
     ]
    },
    {
     "cell_type": "markdown",
     "metadata": {
      "slideshow": {
       "slide_type": "slide"
      }
     },
     "source": [
      "# What Software Carpentry does\n",
      "\n",
      "Runs two full days of instructions on\n",
      "\n",
      "* The unix shell\n",
      "\n",
      "* Git and GitHub\n",
      "\n",
      "* Python or R\n",
      "\n",
      "in order to show Scientists how to\n",
      "\n",
      "* automate repetitive tasks\n",
      "\n",
      "* track and share their work\n",
      "\n",
      "* build programs in a modular, testable, and reusable way"
     ]
    },
    {
     "cell_type": "markdown",
     "metadata": {
      "slideshow": {
       "slide_type": "slide"
      }
     },
     "source": [
      "##Housekeeping"
     ]
    },
    {
     "cell_type": "markdown",
     "metadata": {
      "slideshow": {
       "slide_type": "subslide"
      }
     },
     "source": [
      "###Today's topics\n",
      "\n",
      "* Intro to R and RStudio\n",
      "* Care and feeding of R objects\n",
      "* 1 hour lunch break\n",
      "* Version control with git (locally)\n",
      "* Data aggregation using plyr"
     ]
    },
    {
     "cell_type": "markdown",
     "metadata": {
      "slideshow": {
       "slide_type": "subslide"
      }
     },
     "source": [
      "###Sticky Notes\n",
      "\n",
      "Easy visual feedback for instructors.\n",
      "\n",
      "* <font color=\"red\">If you are lost, confused, or need help, put the red sticky up on your laptop.</font>\n",
      "* <font color=\"green\">If all is well, put up the green sticky.</font>\n",
      "\n",
      "*Please asks questions immediately. Don't fall behind.*\n",
      "\n",
      "**Stickies also double as feedback form.**"
     ]
    },
    {
     "cell_type": "markdown",
     "metadata": {
      "slideshow": {
       "slide_type": "subslide"
      }
     },
     "source": [
      "###Etherpad\n",
      "\n",
      "<a href=\"https://etherpad.mozilla.org/2014-02-swc-sfu-R\">Click.</a>\n",
      "\n",
      "* Easy to share code and useful links.\n",
      "* Share notes with everyone\n",
      "* Ask questions."
     ]
    },
    {
     "cell_type": "markdown",
     "metadata": {
      "slideshow": {
       "slide_type": "subslide"
      }
     },
     "source": [
      "###Tools\n",
      "\n",
      "Things you want to have open:\n",
      "\n",
      "* Bootcamp etherpad\n",
      "* Note-taking device (if desired, all material will be available online afterwards)\n",
      "\n",
      "<img src=\"http://rebeccaberto.files.wordpress.com/2012/07/twitter-bird.jpg\" width=\"10%\" height=\"10%\"/> If you're on twitter *(not during a lesson, of course)*, tweet at @swcarpentry or use the hashtag #SWCSFU"
     ]
    },
    {
     "cell_type": "markdown",
     "metadata": {
      "slideshow": {
       "slide_type": "slide"
      }
     },
     "source": [
      "\n",
      "<div align=\"center\"><img src=\"http://i.imgur.com/G7UWo.gif\" width=\"50%\" height=\"30%\"/></div>\n"
     ]
    }
   ],
   "metadata": {}
  }
 ]
}